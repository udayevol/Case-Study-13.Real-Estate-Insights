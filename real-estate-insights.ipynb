{
 "cells": [
  {
   "cell_type": "markdown",
   "id": "c112f6a8",
   "metadata": {
    "papermill": {
     "duration": 0.012954,
     "end_time": "2024-06-12T14:42:46.454252",
     "exception": false,
     "start_time": "2024-06-12T14:42:46.441298",
     "status": "completed"
    },
    "tags": []
   },
   "source": [
    "**Importing Necessary libraries**"
   ]
  },
  {
   "cell_type": "code",
   "execution_count": 1,
   "id": "5e39c5ff",
   "metadata": {
    "execution": {
     "iopub.execute_input": "2024-06-12T14:42:46.477819Z",
     "iopub.status.busy": "2024-06-12T14:42:46.477366Z",
     "iopub.status.idle": "2024-06-12T14:42:49.154157Z",
     "shell.execute_reply": "2024-06-12T14:42:49.152942Z"
    },
    "papermill": {
     "duration": 2.691764,
     "end_time": "2024-06-12T14:42:49.157109",
     "exception": false,
     "start_time": "2024-06-12T14:42:46.465345",
     "status": "completed"
    },
    "tags": []
   },
   "outputs": [],
   "source": [
    "import pandas as pd\n",
    "import matplotlib.pyplot as plt\n",
    "import seaborn as sns"
   ]
  },
  {
   "cell_type": "markdown",
   "id": "3d1df90d",
   "metadata": {
    "papermill": {
     "duration": 0.010514,
     "end_time": "2024-06-12T14:42:49.177860",
     "exception": false,
     "start_time": "2024-06-12T14:42:49.167346",
     "status": "completed"
    },
    "tags": []
   },
   "source": [
    "**Reading the data which is in csv form**"
   ]
  },
  {
   "cell_type": "code",
   "execution_count": 2,
   "id": "f33f57bd",
   "metadata": {
    "execution": {
     "iopub.execute_input": "2024-06-12T14:42:49.200673Z",
     "iopub.status.busy": "2024-06-12T14:42:49.200090Z",
     "iopub.status.idle": "2024-06-12T14:42:49.431459Z",
     "shell.execute_reply": "2024-06-12T14:42:49.430306Z"
    },
    "papermill": {
     "duration": 0.246764,
     "end_time": "2024-06-12T14:42:49.434911",
     "exception": false,
     "start_time": "2024-06-12T14:42:49.188147",
     "status": "completed"
    },
    "tags": []
   },
   "outputs": [
    {
     "data": {
      "text/html": [
       "<div>\n",
       "<style scoped>\n",
       "    .dataframe tbody tr th:only-of-type {\n",
       "        vertical-align: middle;\n",
       "    }\n",
       "\n",
       "    .dataframe tbody tr th {\n",
       "        vertical-align: top;\n",
       "    }\n",
       "\n",
       "    .dataframe thead th {\n",
       "        text-align: right;\n",
       "    }\n",
       "</style>\n",
       "<table border=\"1\" class=\"dataframe\">\n",
       "  <thead>\n",
       "    <tr style=\"text-align: right;\">\n",
       "      <th></th>\n",
       "      <th>property_name</th>\n",
       "      <th>link</th>\n",
       "      <th>society</th>\n",
       "      <th>price</th>\n",
       "      <th>rate</th>\n",
       "      <th>areaWithType</th>\n",
       "      <th>bedRoom</th>\n",
       "      <th>bathroom</th>\n",
       "      <th>balcony</th>\n",
       "      <th>additionalRoom</th>\n",
       "      <th>address</th>\n",
       "      <th>floorNum</th>\n",
       "      <th>facing</th>\n",
       "      <th>agePossession</th>\n",
       "      <th>nearbyLocations</th>\n",
       "      <th>description</th>\n",
       "      <th>furnishDetails</th>\n",
       "      <th>features</th>\n",
       "      <th>rating</th>\n",
       "      <th>property_id</th>\n",
       "    </tr>\n",
       "  </thead>\n",
       "  <tbody>\n",
       "    <tr>\n",
       "      <th>0</th>\n",
       "      <td>2 BHK Flat in Krishna Colony</td>\n",
       "      <td>https://www.99acres.com/2-bhk-bedroom-apartmen...</td>\n",
       "      <td>maa bhagwati residency</td>\n",
       "      <td>45 Lac</td>\n",
       "      <td>₹ 5,000/sq.ft.</td>\n",
       "      <td>Carpet area: 900 (83.61 sq.m.)</td>\n",
       "      <td>2 Bedrooms</td>\n",
       "      <td>2 Bathrooms</td>\n",
       "      <td>1 Balcony</td>\n",
       "      <td>NaN</td>\n",
       "      <td>Krishna Colony, Gurgaon, Haryana</td>\n",
       "      <td>4th   of 4 Floors</td>\n",
       "      <td>West</td>\n",
       "      <td>1 to 5 Year Old</td>\n",
       "      <td>['Chintapurni Mandir', 'State bank ATM', 'Pear...</td>\n",
       "      <td>So with lift.Maa bhagwati residency is one of ...</td>\n",
       "      <td>['3 Fan', '4 Light', '1 Wardrobe', 'No AC', 'N...</td>\n",
       "      <td>['Feng Shui / Vaastu Compliant', 'Security / F...</td>\n",
       "      <td>['Environment4 out of 5', 'Safety4 out of 5', ...</td>\n",
       "      <td>C68850746</td>\n",
       "    </tr>\n",
       "    <tr>\n",
       "      <th>1</th>\n",
       "      <td>2 BHK Flat in Ashok Vihar</td>\n",
       "      <td>https://www.99acres.com/2-bhk-bedroom-apartmen...</td>\n",
       "      <td>Apna Enclave</td>\n",
       "      <td>50 Lac</td>\n",
       "      <td>₹ 7,692/sq.ft.</td>\n",
       "      <td>Carpet area: 650 (60.39 sq.m.)</td>\n",
       "      <td>2 Bedrooms</td>\n",
       "      <td>2 Bathrooms</td>\n",
       "      <td>1 Balcony</td>\n",
       "      <td>NaN</td>\n",
       "      <td>46b, Ashok Vihar, Gurgaon, Haryana</td>\n",
       "      <td>1st   of 3 Floors</td>\n",
       "      <td>West</td>\n",
       "      <td>10+ Year Old</td>\n",
       "      <td>['Chintapurni Mandir', 'Sheetla Mata Mandir', ...</td>\n",
       "      <td>Property situated on main road, railway statio...</td>\n",
       "      <td>['3 Wardrobe', '4 Fan', '1 Exhaust Fan', '1 Ge...</td>\n",
       "      <td>['Security / Fire Alarm', 'Maintenance Staff',...</td>\n",
       "      <td>['Environment4 out of 5', 'Safety4 out of 5', ...</td>\n",
       "      <td>H68850564</td>\n",
       "    </tr>\n",
       "    <tr>\n",
       "      <th>2</th>\n",
       "      <td>2 BHK Flat in Sohna</td>\n",
       "      <td>https://www.99acres.com/2-bhk-bedroom-apartmen...</td>\n",
       "      <td>Tulsiani Easy in Homes</td>\n",
       "      <td>40 Lac</td>\n",
       "      <td>₹ 6,722/sq.ft.</td>\n",
       "      <td>Carpet area: 595 (55.28 sq.m.)</td>\n",
       "      <td>2 Bedrooms</td>\n",
       "      <td>2 Bathrooms</td>\n",
       "      <td>3 Balconies</td>\n",
       "      <td>NaN</td>\n",
       "      <td>Sohna, Gurgaon, Haryana</td>\n",
       "      <td>12nd   of 14 Floors</td>\n",
       "      <td>NaN</td>\n",
       "      <td>0 to 1 Year Old</td>\n",
       "      <td>['Huda City Metro', 'Golf Course extn road', '...</td>\n",
       "      <td>This property is 15 km away from badshapur, gu...</td>\n",
       "      <td>NaN</td>\n",
       "      <td>['Power Back-up', 'Feng Shui / Vaastu Complian...</td>\n",
       "      <td>['Environment4 out of 5', 'Safety4 out of 5', ...</td>\n",
       "      <td>J68850120</td>\n",
       "    </tr>\n",
       "    <tr>\n",
       "      <th>3</th>\n",
       "      <td>2 BHK Flat in Sector 61 Gurgaon</td>\n",
       "      <td>https://www.99acres.com/2-bhk-bedroom-apartmen...</td>\n",
       "      <td>Smart World Orchard</td>\n",
       "      <td>1.47 Crore</td>\n",
       "      <td>₹ 12,250/sq.ft.</td>\n",
       "      <td>Carpet area: 1200 (111.48 sq.m.)</td>\n",
       "      <td>2 Bedrooms</td>\n",
       "      <td>2 Bathrooms</td>\n",
       "      <td>2 Balconies</td>\n",
       "      <td>Study Room</td>\n",
       "      <td>Sector 61 Gurgaon, Gurgaon, Haryana</td>\n",
       "      <td>2nd   of 4 Floors</td>\n",
       "      <td>NaN</td>\n",
       "      <td>Dec-23</td>\n",
       "      <td>['Sector 55-56 Metro station', 'Bestech Centra...</td>\n",
       "      <td>Near to metro station of sector 56 and opposit...</td>\n",
       "      <td>NaN</td>\n",
       "      <td>['Security / Fire Alarm', 'Private Garden / Te...</td>\n",
       "      <td>NaN</td>\n",
       "      <td>S68849476</td>\n",
       "    </tr>\n",
       "    <tr>\n",
       "      <th>4</th>\n",
       "      <td>2 BHK Flat in Sector 92 Gurgaon</td>\n",
       "      <td>https://www.99acres.com/2-bhk-bedroom-apartmen...</td>\n",
       "      <td>Parkwood Westend</td>\n",
       "      <td>70 Lac</td>\n",
       "      <td>₹ 5,204/sq.ft.</td>\n",
       "      <td>Super Built up area 1345(124.95 sq.m.)</td>\n",
       "      <td>2 Bedrooms</td>\n",
       "      <td>2 Bathrooms</td>\n",
       "      <td>3 Balconies</td>\n",
       "      <td>Study Room</td>\n",
       "      <td>Sector 92 Gurgaon, Gurgaon, Haryana</td>\n",
       "      <td>5th   of 8 Floors</td>\n",
       "      <td>NaN</td>\n",
       "      <td>Under Construction</td>\n",
       "      <td>['Yadav Clinic', 'Bangali Clinic', 'Dr. J. S. ...</td>\n",
       "      <td>We are the proud owners of this 2 bhk alongwit...</td>\n",
       "      <td>[]</td>\n",
       "      <td>NaN</td>\n",
       "      <td>['Environment5 out of 5', 'Safety3 out of 5', ...</td>\n",
       "      <td>L47956793</td>\n",
       "    </tr>\n",
       "    <tr>\n",
       "      <th>...</th>\n",
       "      <td>...</td>\n",
       "      <td>...</td>\n",
       "      <td>...</td>\n",
       "      <td>...</td>\n",
       "      <td>...</td>\n",
       "      <td>...</td>\n",
       "      <td>...</td>\n",
       "      <td>...</td>\n",
       "      <td>...</td>\n",
       "      <td>...</td>\n",
       "      <td>...</td>\n",
       "      <td>...</td>\n",
       "      <td>...</td>\n",
       "      <td>...</td>\n",
       "      <td>...</td>\n",
       "      <td>...</td>\n",
       "      <td>...</td>\n",
       "      <td>...</td>\n",
       "      <td>...</td>\n",
       "      <td>...</td>\n",
       "    </tr>\n",
       "    <tr>\n",
       "      <th>3012</th>\n",
       "      <td>3 BHK Flat in Sector 86 Gurgaon</td>\n",
       "      <td>https://www.99acres.com/3-bhk-bedroom-apartmen...</td>\n",
       "      <td>Ansal Heights 86</td>\n",
       "      <td>1.05 Crore</td>\n",
       "      <td>₹ 5,541/sq.ft.</td>\n",
       "      <td>Super Built up area 1895(176.05 sq.m.)</td>\n",
       "      <td>3 Bedrooms</td>\n",
       "      <td>3 Bathrooms</td>\n",
       "      <td>3 Balconies</td>\n",
       "      <td>Servant Room</td>\n",
       "      <td>Tower C, Sector 86 Gurgaon, Gurgaon, Haryana</td>\n",
       "      <td>9th   of 13 Floors</td>\n",
       "      <td>North-East</td>\n",
       "      <td>Under Construction</td>\n",
       "      <td>['IRIS Broadway Mall', 'Delhi Jaipur Expresswa...</td>\n",
       "      <td>Residential apartment for sell.Located in sect...</td>\n",
       "      <td>[]</td>\n",
       "      <td>NaN</td>\n",
       "      <td>['Safety4.5 out of 5', 'Lifestyle5 out of 5', ...</td>\n",
       "      <td>D26586124</td>\n",
       "    </tr>\n",
       "    <tr>\n",
       "      <th>3013</th>\n",
       "      <td>5 BHK Flat in Sector 48 Gurgaon</td>\n",
       "      <td>https://www.99acres.com/5-bhk-bedroom-apartmen...</td>\n",
       "      <td>Parsvnath Green Ville3.9 ★</td>\n",
       "      <td>3.3 Crore</td>\n",
       "      <td>₹ 9,984/sq.ft.</td>\n",
       "      <td>Super Built up area 3905(362.79 sq.m.)Built Up...</td>\n",
       "      <td>5 Bedrooms</td>\n",
       "      <td>5 Bathrooms</td>\n",
       "      <td>3+ Balconies</td>\n",
       "      <td>Servant Room</td>\n",
       "      <td>Sector 48 Gurgaon, Gurgaon, Haryana</td>\n",
       "      <td>4th   of 5 Floors</td>\n",
       "      <td>NaN</td>\n",
       "      <td>10+ Year Old</td>\n",
       "      <td>['Sri Radhe Krishna Temple', 'Icici bank ATM',...</td>\n",
       "      <td>5 bhk duplex penthouse in low rise building.Av...</td>\n",
       "      <td>NaN</td>\n",
       "      <td>['Security / Fire Alarm', 'Private Garden / Te...</td>\n",
       "      <td>['Management4 out of 5', 'Green Area4 out of 5...</td>\n",
       "      <td>J17123294</td>\n",
       "    </tr>\n",
       "    <tr>\n",
       "      <th>3014</th>\n",
       "      <td>3 BHK Flat in Sector 108 Gurgaon</td>\n",
       "      <td>https://www.99acres.com/3-bhk-bedroom-apartmen...</td>\n",
       "      <td>Raheja Vedaanta3.6 ★</td>\n",
       "      <td>95 Lac</td>\n",
       "      <td>₹ 5,214/sq.ft.</td>\n",
       "      <td>Super Built up area 1822(169.27 sq.m.)</td>\n",
       "      <td>3 Bedrooms</td>\n",
       "      <td>3 Bathrooms</td>\n",
       "      <td>3 Balconies</td>\n",
       "      <td>Others</td>\n",
       "      <td>Sector 108 Gurgaon, Gurgaon, Haryana</td>\n",
       "      <td>3rd   of 22 Floors</td>\n",
       "      <td>NaN</td>\n",
       "      <td>1 to 5 Year Old</td>\n",
       "      <td>NaN</td>\n",
       "      <td>3 bedroom flat with full woodwork. Ready to mo...</td>\n",
       "      <td>[]</td>\n",
       "      <td>['Security / Fire Alarm', 'Feng Shui / Vaastu ...</td>\n",
       "      <td>['Management3 out of 5', 'Green Area4 out of 5...</td>\n",
       "      <td>A41215323</td>\n",
       "    </tr>\n",
       "    <tr>\n",
       "      <th>3015</th>\n",
       "      <td>3 BHK Flat in DLF Phase 3</td>\n",
       "      <td>https://www.99acres.com/3-bhk-bedroom-apartmen...</td>\n",
       "      <td>Ambience Lagoon3.9 ★</td>\n",
       "      <td>5.8 Crore</td>\n",
       "      <td>₹ 12,500/sq.ft.</td>\n",
       "      <td>Built Up area: 3700 (343.74 sq.m.)</td>\n",
       "      <td>3 Bedrooms</td>\n",
       "      <td>4 Bathrooms</td>\n",
       "      <td>3+ Balconies</td>\n",
       "      <td>Pooja Room,Study Room,Servant Room,Others</td>\n",
       "      <td>Gurgaon, DLF Phase 3, Gurgaon, Haryana</td>\n",
       "      <td>9th   of 9 Floors</td>\n",
       "      <td>North-East</td>\n",
       "      <td>10+ Year Old</td>\n",
       "      <td>['Micromax moulsari avenue metro station', 'In...</td>\n",
       "      <td>Luxury condominium complex located on delhi gu...</td>\n",
       "      <td>['1 Water Purifier', '10 Fan', '1 Fridge', '1 ...</td>\n",
       "      <td>['Security / Fire Alarm', 'Private Garden / Te...</td>\n",
       "      <td>['Management5 out of 5', 'Green Area5 out of 5...</td>\n",
       "      <td>J18888617</td>\n",
       "    </tr>\n",
       "    <tr>\n",
       "      <th>3016</th>\n",
       "      <td>4 BHK Flat in Sector 54 Gurgaon</td>\n",
       "      <td>https://www.99acres.com/4-bhk-bedroom-apartmen...</td>\n",
       "      <td>DLF The Crest3.6 ★</td>\n",
       "      <td>11 Crore</td>\n",
       "      <td>₹ 35,222/sq.ft.</td>\n",
       "      <td>Super Built up area 3123(290.14 sq.m.)</td>\n",
       "      <td>4 Bedrooms</td>\n",
       "      <td>6 Bathrooms</td>\n",
       "      <td>3 Balconies</td>\n",
       "      <td>Servant Room</td>\n",
       "      <td>Sector 54 Gurgaon, Gurgaon, Haryana</td>\n",
       "      <td>7th   of 36 Floors</td>\n",
       "      <td>NaN</td>\n",
       "      <td>1 to 5 Year Old</td>\n",
       "      <td>['Sector 53-54 Metro Station', 'Ardee Mall', '...</td>\n",
       "      <td>Club &amp; pool facing\\nVrv air conditioning</td>\n",
       "      <td>['6 Fan', '1 Fridge', '1 Exhaust Fan', '5 Geys...</td>\n",
       "      <td>['Security / Fire Alarm', 'Power Back-up', 'In...</td>\n",
       "      <td>['Management4 out of 5', 'Green Area4 out of 5...</td>\n",
       "      <td>V70296402</td>\n",
       "    </tr>\n",
       "  </tbody>\n",
       "</table>\n",
       "<p>3017 rows × 20 columns</p>\n",
       "</div>"
      ],
      "text/plain": [
       "                         property_name  \\\n",
       "0         2 BHK Flat in Krishna Colony   \n",
       "1            2 BHK Flat in Ashok Vihar   \n",
       "2                  2 BHK Flat in Sohna   \n",
       "3      2 BHK Flat in Sector 61 Gurgaon   \n",
       "4      2 BHK Flat in Sector 92 Gurgaon   \n",
       "...                                ...   \n",
       "3012   3 BHK Flat in Sector 86 Gurgaon   \n",
       "3013   5 BHK Flat in Sector 48 Gurgaon   \n",
       "3014  3 BHK Flat in Sector 108 Gurgaon   \n",
       "3015         3 BHK Flat in DLF Phase 3   \n",
       "3016   4 BHK Flat in Sector 54 Gurgaon   \n",
       "\n",
       "                                                   link  \\\n",
       "0     https://www.99acres.com/2-bhk-bedroom-apartmen...   \n",
       "1     https://www.99acres.com/2-bhk-bedroom-apartmen...   \n",
       "2     https://www.99acres.com/2-bhk-bedroom-apartmen...   \n",
       "3     https://www.99acres.com/2-bhk-bedroom-apartmen...   \n",
       "4     https://www.99acres.com/2-bhk-bedroom-apartmen...   \n",
       "...                                                 ...   \n",
       "3012  https://www.99acres.com/3-bhk-bedroom-apartmen...   \n",
       "3013  https://www.99acres.com/5-bhk-bedroom-apartmen...   \n",
       "3014  https://www.99acres.com/3-bhk-bedroom-apartmen...   \n",
       "3015  https://www.99acres.com/3-bhk-bedroom-apartmen...   \n",
       "3016  https://www.99acres.com/4-bhk-bedroom-apartmen...   \n",
       "\n",
       "                         society       price             rate  \\\n",
       "0         maa bhagwati residency      45 Lac   ₹ 5,000/sq.ft.   \n",
       "1                   Apna Enclave      50 Lac   ₹ 7,692/sq.ft.   \n",
       "2         Tulsiani Easy in Homes      40 Lac   ₹ 6,722/sq.ft.   \n",
       "3            Smart World Orchard  1.47 Crore  ₹ 12,250/sq.ft.   \n",
       "4               Parkwood Westend      70 Lac   ₹ 5,204/sq.ft.   \n",
       "...                          ...         ...              ...   \n",
       "3012            Ansal Heights 86  1.05 Crore   ₹ 5,541/sq.ft.   \n",
       "3013  Parsvnath Green Ville3.9 ★   3.3 Crore   ₹ 9,984/sq.ft.   \n",
       "3014        Raheja Vedaanta3.6 ★      95 Lac   ₹ 5,214/sq.ft.   \n",
       "3015        Ambience Lagoon3.9 ★   5.8 Crore  ₹ 12,500/sq.ft.   \n",
       "3016          DLF The Crest3.6 ★    11 Crore  ₹ 35,222/sq.ft.   \n",
       "\n",
       "                                           areaWithType     bedRoom  \\\n",
       "0                        Carpet area: 900 (83.61 sq.m.)  2 Bedrooms   \n",
       "1                        Carpet area: 650 (60.39 sq.m.)  2 Bedrooms   \n",
       "2                        Carpet area: 595 (55.28 sq.m.)  2 Bedrooms   \n",
       "3                      Carpet area: 1200 (111.48 sq.m.)  2 Bedrooms   \n",
       "4                Super Built up area 1345(124.95 sq.m.)  2 Bedrooms   \n",
       "...                                                 ...         ...   \n",
       "3012             Super Built up area 1895(176.05 sq.m.)  3 Bedrooms   \n",
       "3013  Super Built up area 3905(362.79 sq.m.)Built Up...  5 Bedrooms   \n",
       "3014             Super Built up area 1822(169.27 sq.m.)  3 Bedrooms   \n",
       "3015                 Built Up area: 3700 (343.74 sq.m.)  3 Bedrooms   \n",
       "3016             Super Built up area 3123(290.14 sq.m.)  4 Bedrooms   \n",
       "\n",
       "         bathroom       balcony                             additionalRoom  \\\n",
       "0     2 Bathrooms     1 Balcony                                        NaN   \n",
       "1     2 Bathrooms     1 Balcony                                        NaN   \n",
       "2     2 Bathrooms   3 Balconies                                        NaN   \n",
       "3     2 Bathrooms   2 Balconies                                 Study Room   \n",
       "4     2 Bathrooms   3 Balconies                                 Study Room   \n",
       "...           ...           ...                                        ...   \n",
       "3012  3 Bathrooms   3 Balconies                               Servant Room   \n",
       "3013  5 Bathrooms  3+ Balconies                               Servant Room   \n",
       "3014  3 Bathrooms   3 Balconies                                     Others   \n",
       "3015  4 Bathrooms  3+ Balconies  Pooja Room,Study Room,Servant Room,Others   \n",
       "3016  6 Bathrooms   3 Balconies                               Servant Room   \n",
       "\n",
       "                                           address             floorNum  \\\n",
       "0                 Krishna Colony, Gurgaon, Haryana    4th   of 4 Floors   \n",
       "1               46b, Ashok Vihar, Gurgaon, Haryana    1st   of 3 Floors   \n",
       "2                          Sohna, Gurgaon, Haryana  12nd   of 14 Floors   \n",
       "3              Sector 61 Gurgaon, Gurgaon, Haryana    2nd   of 4 Floors   \n",
       "4              Sector 92 Gurgaon, Gurgaon, Haryana    5th   of 8 Floors   \n",
       "...                                            ...                  ...   \n",
       "3012  Tower C, Sector 86 Gurgaon, Gurgaon, Haryana   9th   of 13 Floors   \n",
       "3013           Sector 48 Gurgaon, Gurgaon, Haryana    4th   of 5 Floors   \n",
       "3014          Sector 108 Gurgaon, Gurgaon, Haryana   3rd   of 22 Floors   \n",
       "3015        Gurgaon, DLF Phase 3, Gurgaon, Haryana    9th   of 9 Floors   \n",
       "3016           Sector 54 Gurgaon, Gurgaon, Haryana   7th   of 36 Floors   \n",
       "\n",
       "          facing       agePossession  \\\n",
       "0           West     1 to 5 Year Old   \n",
       "1           West        10+ Year Old   \n",
       "2            NaN     0 to 1 Year Old   \n",
       "3            NaN              Dec-23   \n",
       "4            NaN  Under Construction   \n",
       "...          ...                 ...   \n",
       "3012  North-East  Under Construction   \n",
       "3013         NaN        10+ Year Old   \n",
       "3014         NaN     1 to 5 Year Old   \n",
       "3015  North-East        10+ Year Old   \n",
       "3016         NaN     1 to 5 Year Old   \n",
       "\n",
       "                                        nearbyLocations  \\\n",
       "0     ['Chintapurni Mandir', 'State bank ATM', 'Pear...   \n",
       "1     ['Chintapurni Mandir', 'Sheetla Mata Mandir', ...   \n",
       "2     ['Huda City Metro', 'Golf Course extn road', '...   \n",
       "3     ['Sector 55-56 Metro station', 'Bestech Centra...   \n",
       "4     ['Yadav Clinic', 'Bangali Clinic', 'Dr. J. S. ...   \n",
       "...                                                 ...   \n",
       "3012  ['IRIS Broadway Mall', 'Delhi Jaipur Expresswa...   \n",
       "3013  ['Sri Radhe Krishna Temple', 'Icici bank ATM',...   \n",
       "3014                                                NaN   \n",
       "3015  ['Micromax moulsari avenue metro station', 'In...   \n",
       "3016  ['Sector 53-54 Metro Station', 'Ardee Mall', '...   \n",
       "\n",
       "                                            description  \\\n",
       "0     So with lift.Maa bhagwati residency is one of ...   \n",
       "1     Property situated on main road, railway statio...   \n",
       "2     This property is 15 km away from badshapur, gu...   \n",
       "3     Near to metro station of sector 56 and opposit...   \n",
       "4     We are the proud owners of this 2 bhk alongwit...   \n",
       "...                                                 ...   \n",
       "3012  Residential apartment for sell.Located in sect...   \n",
       "3013  5 bhk duplex penthouse in low rise building.Av...   \n",
       "3014  3 bedroom flat with full woodwork. Ready to mo...   \n",
       "3015  Luxury condominium complex located on delhi gu...   \n",
       "3016           Club & pool facing\\nVrv air conditioning   \n",
       "\n",
       "                                         furnishDetails  \\\n",
       "0     ['3 Fan', '4 Light', '1 Wardrobe', 'No AC', 'N...   \n",
       "1     ['3 Wardrobe', '4 Fan', '1 Exhaust Fan', '1 Ge...   \n",
       "2                                                   NaN   \n",
       "3                                                   NaN   \n",
       "4                                                    []   \n",
       "...                                                 ...   \n",
       "3012                                                 []   \n",
       "3013                                                NaN   \n",
       "3014                                                 []   \n",
       "3015  ['1 Water Purifier', '10 Fan', '1 Fridge', '1 ...   \n",
       "3016  ['6 Fan', '1 Fridge', '1 Exhaust Fan', '5 Geys...   \n",
       "\n",
       "                                               features  \\\n",
       "0     ['Feng Shui / Vaastu Compliant', 'Security / F...   \n",
       "1     ['Security / Fire Alarm', 'Maintenance Staff',...   \n",
       "2     ['Power Back-up', 'Feng Shui / Vaastu Complian...   \n",
       "3     ['Security / Fire Alarm', 'Private Garden / Te...   \n",
       "4                                                   NaN   \n",
       "...                                                 ...   \n",
       "3012                                                NaN   \n",
       "3013  ['Security / Fire Alarm', 'Private Garden / Te...   \n",
       "3014  ['Security / Fire Alarm', 'Feng Shui / Vaastu ...   \n",
       "3015  ['Security / Fire Alarm', 'Private Garden / Te...   \n",
       "3016  ['Security / Fire Alarm', 'Power Back-up', 'In...   \n",
       "\n",
       "                                                 rating property_id  \n",
       "0     ['Environment4 out of 5', 'Safety4 out of 5', ...   C68850746  \n",
       "1     ['Environment4 out of 5', 'Safety4 out of 5', ...   H68850564  \n",
       "2     ['Environment4 out of 5', 'Safety4 out of 5', ...   J68850120  \n",
       "3                                                   NaN   S68849476  \n",
       "4     ['Environment5 out of 5', 'Safety3 out of 5', ...   L47956793  \n",
       "...                                                 ...         ...  \n",
       "3012  ['Safety4.5 out of 5', 'Lifestyle5 out of 5', ...   D26586124  \n",
       "3013  ['Management4 out of 5', 'Green Area4 out of 5...   J17123294  \n",
       "3014  ['Management3 out of 5', 'Green Area4 out of 5...   A41215323  \n",
       "3015  ['Management5 out of 5', 'Green Area5 out of 5...   J18888617  \n",
       "3016  ['Management4 out of 5', 'Green Area4 out of 5...   V70296402  \n",
       "\n",
       "[3017 rows x 20 columns]"
      ]
     },
     "execution_count": 2,
     "metadata": {},
     "output_type": "execute_result"
    }
   ],
   "source": [
    "df = pd.read_csv('/kaggle/input/real-estate-data-sourced-from-99acres-com/flats.csv')\n",
    "df"
   ]
  },
  {
   "cell_type": "markdown",
   "id": "96bc7f30",
   "metadata": {
    "papermill": {
     "duration": 0.011145,
     "end_time": "2024-06-12T14:42:49.457147",
     "exception": false,
     "start_time": "2024-06-12T14:42:49.446002",
     "status": "completed"
    },
    "tags": []
   },
   "source": [
    "**Exploring the dataset shapes and datatypes.**"
   ]
  },
  {
   "cell_type": "code",
   "execution_count": 3,
   "id": "092592e6",
   "metadata": {
    "execution": {
     "iopub.execute_input": "2024-06-12T14:42:49.483608Z",
     "iopub.status.busy": "2024-06-12T14:42:49.483165Z",
     "iopub.status.idle": "2024-06-12T14:42:49.519793Z",
     "shell.execute_reply": "2024-06-12T14:42:49.518284Z"
    },
    "papermill": {
     "duration": 0.05235,
     "end_time": "2024-06-12T14:42:49.522747",
     "exception": false,
     "start_time": "2024-06-12T14:42:49.470397",
     "status": "completed"
    },
    "tags": []
   },
   "outputs": [
    {
     "name": "stdout",
     "output_type": "stream",
     "text": [
      "<class 'pandas.core.frame.DataFrame'>\n",
      "RangeIndex: 3017 entries, 0 to 3016\n",
      "Data columns (total 20 columns):\n",
      " #   Column           Non-Null Count  Dtype \n",
      "---  ------           --------------  ----- \n",
      " 0   property_name    3017 non-null   object\n",
      " 1   link             3017 non-null   object\n",
      " 2   society          3016 non-null   object\n",
      " 3   price            3007 non-null   object\n",
      " 4   rate             3004 non-null   object\n",
      " 5   areaWithType     3008 non-null   object\n",
      " 6   bedRoom          3008 non-null   object\n",
      " 7   bathroom         3008 non-null   object\n",
      " 8   balcony          3008 non-null   object\n",
      " 9   additionalRoom   1694 non-null   object\n",
      " 10  address          3002 non-null   object\n",
      " 11  floorNum         3006 non-null   object\n",
      " 12  facing           2127 non-null   object\n",
      " 13  agePossession    3007 non-null   object\n",
      " 14  nearbyLocations  2913 non-null   object\n",
      " 15  description      3008 non-null   object\n",
      " 16  furnishDetails   2203 non-null   object\n",
      " 17  features         2594 non-null   object\n",
      " 18  rating           2676 non-null   object\n",
      " 19  property_id      3008 non-null   object\n",
      "dtypes: object(20)\n",
      "memory usage: 471.5+ KB\n"
     ]
    }
   ],
   "source": [
    "df.info()"
   ]
  },
  {
   "cell_type": "markdown",
   "id": "1bbc8817",
   "metadata": {
    "papermill": {
     "duration": 0.011083,
     "end_time": "2024-06-12T14:42:49.545195",
     "exception": false,
     "start_time": "2024-06-12T14:42:49.534112",
     "status": "completed"
    },
    "tags": []
   },
   "source": [
    "**Checking for the null values.**"
   ]
  },
  {
   "cell_type": "code",
   "execution_count": 4,
   "id": "40e743b4",
   "metadata": {
    "execution": {
     "iopub.execute_input": "2024-06-12T14:42:49.570107Z",
     "iopub.status.busy": "2024-06-12T14:42:49.569687Z",
     "iopub.status.idle": "2024-06-12T14:42:49.623840Z",
     "shell.execute_reply": "2024-06-12T14:42:49.622743Z"
    },
    "papermill": {
     "duration": 0.070068,
     "end_time": "2024-06-12T14:42:49.626773",
     "exception": false,
     "start_time": "2024-06-12T14:42:49.556705",
     "status": "completed"
    },
    "tags": []
   },
   "outputs": [],
   "source": [
    "# replacing \"Price on Request\" with 0 to convert price column in numeric format\n",
    "df.loc[df['price']=='Price on Request','price'] = 0\n",
    "\n",
    "# Remove non-numeriprice_numericc characters and convert prices to numeric\n",
    "df['price'] = df['price'].replace({' Lac': '00000', ' Crore': '0000000', 'â‚¹ ': '', ',': ''}, regex=True).astype(float)\n",
    "\n",
    "# Extract numeric part of the area\n",
    "df['areaWithType'] = df['areaWithType'].str.extract(r'(\\d+\\.?\\d*)').astype(float)"
   ]
  },
  {
   "cell_type": "code",
   "execution_count": 5,
   "id": "a8c5f542",
   "metadata": {
    "execution": {
     "iopub.execute_input": "2024-06-12T14:42:49.651182Z",
     "iopub.status.busy": "2024-06-12T14:42:49.650815Z",
     "iopub.status.idle": "2024-06-12T14:42:49.670715Z",
     "shell.execute_reply": "2024-06-12T14:42:49.669461Z"
    },
    "papermill": {
     "duration": 0.035458,
     "end_time": "2024-06-12T14:42:49.673539",
     "exception": false,
     "start_time": "2024-06-12T14:42:49.638081",
     "status": "completed"
    },
    "tags": []
   },
   "outputs": [
    {
     "name": "stdout",
     "output_type": "stream",
     "text": [
      "<class 'pandas.core.frame.DataFrame'>\n",
      "RangeIndex: 3017 entries, 0 to 3016\n",
      "Data columns (total 20 columns):\n",
      " #   Column           Non-Null Count  Dtype  \n",
      "---  ------           --------------  -----  \n",
      " 0   property_name    3017 non-null   object \n",
      " 1   link             3017 non-null   object \n",
      " 2   society          3016 non-null   object \n",
      " 3   price            3007 non-null   float64\n",
      " 4   rate             3004 non-null   object \n",
      " 5   areaWithType     3008 non-null   float64\n",
      " 6   bedRoom          3008 non-null   object \n",
      " 7   bathroom         3008 non-null   object \n",
      " 8   balcony          3008 non-null   object \n",
      " 9   additionalRoom   1694 non-null   object \n",
      " 10  address          3002 non-null   object \n",
      " 11  floorNum         3006 non-null   object \n",
      " 12  facing           2127 non-null   object \n",
      " 13  agePossession    3007 non-null   object \n",
      " 14  nearbyLocations  2913 non-null   object \n",
      " 15  description      3008 non-null   object \n",
      " 16  furnishDetails   2203 non-null   object \n",
      " 17  features         2594 non-null   object \n",
      " 18  rating           2676 non-null   object \n",
      " 19  property_id      3008 non-null   object \n",
      "dtypes: float64(2), object(18)\n",
      "memory usage: 471.5+ KB\n"
     ]
    }
   ],
   "source": [
    "df.info()"
   ]
  },
  {
   "cell_type": "markdown",
   "id": "1b9fbc12",
   "metadata": {
    "papermill": {
     "duration": 0.011601,
     "end_time": "2024-06-12T14:42:49.696896",
     "exception": false,
     "start_time": "2024-06-12T14:42:49.685295",
     "status": "completed"
    },
    "tags": []
   },
   "source": [
    "**Question 1: How many flats are listed in each society?**"
   ]
  },
  {
   "cell_type": "code",
   "execution_count": 6,
   "id": "6b275bed",
   "metadata": {
    "execution": {
     "iopub.execute_input": "2024-06-12T14:42:49.722578Z",
     "iopub.status.busy": "2024-06-12T14:42:49.722121Z",
     "iopub.status.idle": "2024-06-12T14:42:50.229275Z",
     "shell.execute_reply": "2024-06-12T14:42:50.227998Z"
    },
    "papermill": {
     "duration": 0.524618,
     "end_time": "2024-06-12T14:42:50.233058",
     "exception": false,
     "start_time": "2024-06-12T14:42:49.708440",
     "status": "completed"
    },
    "tags": []
   },
   "outputs": [
    {
     "data": {
      "image/png": "[encoded data removed]",
      "text/plain": [
       "<Figure size 1000x600 with 1 Axes>"
      ]
     },
     "metadata": {},
     "output_type": "display_data"
    }
   ],
   "source": [
    "flats_per_society = df['society'].value_counts()\n",
    "\n",
    "# Selecting top 10 societies\n",
    "top_10_flats_per_society = flats_per_society.head(10)\n",
    "\n",
    "\n",
    "# Plotting\n",
    "plt.figure(figsize=(10, 6))\n",
    "top_10_flats_per_society.plot(kind='bar')\n",
    "plt.title('Top 10 Societies with the Highest Count of Flats')\n",
    "plt.xlabel('Society')\n",
    "plt.ylabel('Number of Flats')\n",
    "plt.xticks(rotation=45, ha='right')\n",
    "plt.tight_layout()\n",
    "plt.show()"
   ]
  },
  {
   "cell_type": "markdown",
   "id": "264ad34b",
   "metadata": {
    "papermill": {
     "duration": 0.014016,
     "end_time": "2024-06-12T14:42:50.260658",
     "exception": false,
     "start_time": "2024-06-12T14:42:50.246642",
     "status": "completed"
    },
    "tags": []
   },
   "source": [
    "**As per the above graph the society with the highest number of flats listed is \"SS The Leaf3.8\" with 73 flats and followed by \"Tulip Violet4.3\" with 40 flats.**"
   ]
  },
  {
   "cell_type": "markdown",
   "id": "1a6b4a57",
   "metadata": {
    "papermill": {
     "duration": 0.012496,
     "end_time": "2024-06-12T14:42:50.286216",
     "exception": false,
     "start_time": "2024-06-12T14:42:50.273720",
     "status": "completed"
    },
    "tags": []
   },
   "source": [
    "**Question 2: What is the average price of 2 BHK flats?**"
   ]
  },
  {
   "cell_type": "code",
   "execution_count": 7,
   "id": "7c0f1b13",
   "metadata": {
    "execution": {
     "iopub.execute_input": "2024-06-12T14:42:50.314218Z",
     "iopub.status.busy": "2024-06-12T14:42:50.313811Z",
     "iopub.status.idle": "2024-06-12T14:42:50.326968Z",
     "shell.execute_reply": "2024-06-12T14:42:50.325755Z"
    },
    "papermill": {
     "duration": 0.030302,
     "end_time": "2024-06-12T14:42:50.329628",
     "exception": false,
     "start_time": "2024-06-12T14:42:50.299326",
     "status": "completed"
    },
    "tags": []
   },
   "outputs": [
    {
     "name": "stdout",
     "output_type": "stream",
     "text": [
      "3696309.6348891235\n"
     ]
    }
   ],
   "source": [
    "# Filter for 2 BHK flats\n",
    "two_bhk_flats = df[df['bedRoom'] == '2 Bedrooms']\n",
    "\n",
    "\n",
    "# Calculate average price\n",
    "average_price = two_bhk_flats['price'].mean()\n",
    "print(average_price)"
   ]
  },
  {
   "cell_type": "markdown",
   "id": "93d7a60a",
   "metadata": {
    "papermill": {
     "duration": 0.012527,
     "end_time": "2024-06-12T14:42:50.355434",
     "exception": false,
     "start_time": "2024-06-12T14:42:50.342907",
     "status": "completed"
    },
    "tags": []
   },
   "source": [
    "**The average price of 2 BHK flats is approximately ₹36,96,309.63.**"
   ]
  },
  {
   "cell_type": "markdown",
   "id": "271cdf47",
   "metadata": {
    "papermill": {
     "duration": 0.012895,
     "end_time": "2024-06-12T14:42:50.381062",
     "exception": false,
     "start_time": "2024-06-12T14:42:50.368167",
     "status": "completed"
    },
    "tags": []
   },
   "source": [
    "**Question 3: Count the number of flats available in each bedroom category?**"
   ]
  },
  {
   "cell_type": "code",
   "execution_count": 8,
   "id": "a3890873",
   "metadata": {
    "execution": {
     "iopub.execute_input": "2024-06-12T14:42:50.410089Z",
     "iopub.status.busy": "2024-06-12T14:42:50.409663Z",
     "iopub.status.idle": "2024-06-12T14:42:50.755945Z",
     "shell.execute_reply": "2024-06-12T14:42:50.754734Z"
    },
    "papermill": {
     "duration": 0.363357,
     "end_time": "2024-06-12T14:42:50.758666",
     "exception": false,
     "start_time": "2024-06-12T14:42:50.395309",
     "status": "completed"
    },
    "tags": []
   },
   "outputs": [
    {
     "name": "stdout",
     "output_type": "stream",
     "text": [
      "bedRoom\n",
      "3 Bedrooms    1439\n",
      "2 Bedrooms     948\n",
      "4 Bedrooms     481\n",
      "1 Bedroom      105\n",
      "5 Bedrooms      32\n",
      "6 Bedrooms       3\n",
      "Name: count, dtype: int64\n"
     ]
    },
    {
     "data": {
      "image/png": "[encoded data removed]",
      "text/plain": [
       "<Figure size 1200x600 with 1 Axes>"
      ]
     },
     "metadata": {},
     "output_type": "display_data"
    }
   ],
   "source": [
    "# Count flats in each bedroom category\n",
    "flats_per_bedroom = df['bedRoom'].value_counts()\n",
    "print(flats_per_bedroom)\n",
    "\n",
    "plt.figure(figsize=(12,6))\n",
    "sns.barplot(x = flats_per_bedroom.index, y = flats_per_bedroom.values, palette = 'viridis')\n",
    "plt.title('Flats Available In Each Bedroom Category')\n",
    "plt.xlabel('Bedroom')\n",
    "plt.ylabel('Count of Flats')\n",
    "plt.show()\n"
   ]
  },
  {
   "cell_type": "markdown",
   "id": "a8390262",
   "metadata": {
    "papermill": {
     "duration": 0.014145,
     "end_time": "2024-06-12T14:42:50.786332",
     "exception": false,
     "start_time": "2024-06-12T14:42:50.772187",
     "status": "completed"
    },
    "tags": []
   },
   "source": [
    "**Question 4: What is the distribution of flats based on the number of bathrooms?**"
   ]
  },
  {
   "cell_type": "code",
   "execution_count": 9,
   "id": "6c0fe0e7",
   "metadata": {
    "execution": {
     "iopub.execute_input": "2024-06-12T14:42:50.815202Z",
     "iopub.status.busy": "2024-06-12T14:42:50.814788Z",
     "iopub.status.idle": "2024-06-12T14:42:51.147828Z",
     "shell.execute_reply": "2024-06-12T14:42:51.146472Z"
    },
    "papermill": {
     "duration": 0.351219,
     "end_time": "2024-06-12T14:42:51.151142",
     "exception": false,
     "start_time": "2024-06-12T14:42:50.799923",
     "status": "completed"
    },
    "tags": []
   },
   "outputs": [
    {
     "name": "stdout",
     "output_type": "stream",
     "text": [
      "bathroom\n",
      "2 Bathrooms    1047\n",
      "3 Bathrooms     991\n",
      "4 Bathrooms     638\n",
      "5 Bathrooms     170\n",
      "1 Bathroom      115\n",
      "6 Bathrooms      42\n",
      "7 Bathrooms       5\n",
      "Name: count, dtype: int64\n"
     ]
    },
    {
     "data": {
      "image/png": "[encoded data removed]",
      "text/plain": [
       "<Figure size 1200x600 with 1 Axes>"
      ]
     },
     "metadata": {},
     "output_type": "display_data"
    }
   ],
   "source": [
    "# Distribution of flats based on number of bathrooms\n",
    "bathroom_distribution = df['bathroom'].value_counts()\n",
    "print(bathroom_distribution)\n",
    "\n",
    "plt.figure(figsize= (12,6))\n",
    "sns.barplot(x = bathroom_distribution.index, y = bathroom_distribution.values, palette = 'viridis')\n",
    "plt.title('Distribution of Flats Based on Bathrooms')\n",
    "plt.xlabel('Bathroom')\n",
    "plt.ylabel('Count')\n",
    "plt.show()"
   ]
  },
  {
   "cell_type": "markdown",
   "id": "bbb2404c",
   "metadata": {
    "papermill": {
     "duration": 0.013936,
     "end_time": "2024-06-12T14:42:51.179725",
     "exception": false,
     "start_time": "2024-06-12T14:42:51.165789",
     "status": "completed"
    },
    "tags": []
   },
   "source": [
    "**Question 5: Determine the average area of flats for each type of facing (e.g., North, South).**"
   ]
  },
  {
   "cell_type": "code",
   "execution_count": 10,
   "id": "1c42f241",
   "metadata": {
    "execution": {
     "iopub.execute_input": "2024-06-12T14:42:51.210390Z",
     "iopub.status.busy": "2024-06-12T14:42:51.209965Z",
     "iopub.status.idle": "2024-06-12T14:42:51.587932Z",
     "shell.execute_reply": "2024-06-12T14:42:51.586418Z"
    },
    "papermill": {
     "duration": 0.397344,
     "end_time": "2024-06-12T14:42:51.591387",
     "exception": false,
     "start_time": "2024-06-12T14:42:51.194043",
     "status": "completed"
    },
    "tags": []
   },
   "outputs": [
    {
     "name": "stdout",
     "output_type": "stream",
     "text": [
      "facing\n",
      "East          1930.989858\n",
      "North         3931.697781\n",
      "North-East    3162.792510\n",
      "North-West    2413.443025\n",
      "South         1921.257291\n",
      "South-East    2025.120000\n",
      "South-West    6500.352074\n",
      "West          1870.265464\n",
      "Name: areaWithType, dtype: float64\n"
     ]
    },
    {
     "data": {
      "image/png": "[encoded data removed]",
      "text/plain": [
       "<Figure size 1200x600 with 1 Axes>"
      ]
     },
     "metadata": {},
     "output_type": "display_data"
    }
   ],
   "source": [
    "# Calculate average area for each facing type\n",
    "average_area_facing = df.groupby('facing')['areaWithType'].mean()\n",
    "print(average_area_facing)\n",
    "\n",
    "plt.figure(figsize=(12, 6))\n",
    "sns.barplot(x = average_area_facing.index, y = average_area_facing.values, palette='viridis' )\n",
    "plt.title('Average Area of Flats For Each Type of Facing')\n",
    "plt.xlabel('Facing')\n",
    "plt.ylabel('Average')\n",
    "plt.show()"
   ]
  },
  {
   "cell_type": "markdown",
   "id": "45ca848a",
   "metadata": {
    "papermill": {
     "duration": 0.020508,
     "end_time": "2024-06-12T14:42:51.635081",
     "exception": false,
     "start_time": "2024-06-12T14:42:51.614573",
     "status": "completed"
    },
    "tags": []
   },
   "source": [
    "**Question 6: Analyze the correlation between the area of flats and their prices.**"
   ]
  },
  {
   "cell_type": "code",
   "execution_count": 11,
   "id": "fb2d2b39",
   "metadata": {
    "execution": {
     "iopub.execute_input": "2024-06-12T14:42:51.682960Z",
     "iopub.status.busy": "2024-06-12T14:42:51.681561Z",
     "iopub.status.idle": "2024-06-12T14:42:52.298242Z",
     "shell.execute_reply": "2024-06-12T14:42:52.297033Z"
    },
    "papermill": {
     "duration": 0.64266,
     "end_time": "2024-06-12T14:42:52.301101",
     "exception": false,
     "start_time": "2024-06-12T14:42:51.658441",
     "status": "completed"
    },
    "tags": []
   },
   "outputs": [
    {
     "name": "stdout",
     "output_type": "stream",
     "text": [
      "0.0064451569423635965\n"
     ]
    },
    {
     "data": {
      "image/png": "[encoded data removed]",
      "text/plain": [
       "<Figure size 1000x600 with 1 Axes>"
      ]
     },
     "metadata": {},
     "output_type": "display_data"
    }
   ],
   "source": [
    "# Calculate correlation between area and price\n",
    "correlation = df['areaWithType'].corr(df['price'])\n",
    "print(correlation)\n",
    "\n",
    "# Create a scatter plot with a trend line\n",
    "plt.figure(figsize=(10, 6))\n",
    "sns.regplot(x='areaWithType', y='price', data=df, scatter_kws={'alpha':0.5}, line_kws={'color':'red'})\n",
    "plt.xlabel('Area (sq.ft)')\n",
    "plt.ylabel('Price (in INR)')\n",
    "plt.title('Correlation between Area and Price of Flats')\n",
    "plt.grid(True)\n",
    "plt.show()"
   ]
  },
  {
   "cell_type": "markdown",
   "id": "f7d22bc2",
   "metadata": {
    "papermill": {
     "duration": 0.015566,
     "end_time": "2024-06-12T14:42:52.332598",
     "exception": false,
     "start_time": "2024-06-12T14:42:52.317032",
     "status": "completed"
    },
    "tags": []
   },
   "source": [
    "**Question 7: Create a histogram to visualize the distribution of flat prices?**"
   ]
  },
  {
   "cell_type": "code",
   "execution_count": 12,
   "id": "fac9172b",
   "metadata": {
    "execution": {
     "iopub.execute_input": "2024-06-12T14:42:52.366668Z",
     "iopub.status.busy": "2024-06-12T14:42:52.366212Z",
     "iopub.status.idle": "2024-06-12T14:42:52.641846Z",
     "shell.execute_reply": "2024-06-12T14:42:52.640568Z"
    },
    "papermill": {
     "duration": 0.295853,
     "end_time": "2024-06-12T14:42:52.644571",
     "exception": false,
     "start_time": "2024-06-12T14:42:52.348718",
     "status": "completed"
    },
    "tags": []
   },
   "outputs": [
    {
     "data": {
      "image/png": "[encoded data removed]",
      "text/plain": [
       "<Figure size 640x480 with 1 Axes>"
      ]
     },
     "metadata": {},
     "output_type": "display_data"
    }
   ],
   "source": [
    "# Histogram of flat prices\n",
    "plt.hist(df['price'], bins=20, edgecolor='black')\n",
    "plt.xlabel('Price')\n",
    "plt.ylabel('Number of Flats')\n",
    "plt.title('Distribution of Flat Prices')\n",
    "plt.show()"
   ]
  },
  {
   "cell_type": "code",
   "execution_count": 13,
   "id": "7f4119cb",
   "metadata": {
    "execution": {
     "iopub.execute_input": "2024-06-12T14:42:52.679745Z",
     "iopub.status.busy": "2024-06-12T14:42:52.678732Z",
     "iopub.status.idle": "2024-06-12T14:42:52.772491Z",
     "shell.execute_reply": "2024-06-12T14:42:52.771291Z"
    },
    "papermill": {
     "duration": 0.114156,
     "end_time": "2024-06-12T14:42:52.774982",
     "exception": false,
     "start_time": "2024-06-12T14:42:52.660826",
     "status": "completed"
    },
    "tags": []
   },
   "outputs": [
    {
     "data": {
      "text/html": [
       "<div>\n",
       "<style scoped>\n",
       "    .dataframe tbody tr th:only-of-type {\n",
       "        vertical-align: middle;\n",
       "    }\n",
       "\n",
       "    .dataframe tbody tr th {\n",
       "        vertical-align: top;\n",
       "    }\n",
       "\n",
       "    .dataframe thead th {\n",
       "        text-align: right;\n",
       "    }\n",
       "</style>\n",
       "<table border=\"1\" class=\"dataframe\">\n",
       "  <thead>\n",
       "    <tr style=\"text-align: right;\">\n",
       "      <th></th>\n",
       "      <th>property_name</th>\n",
       "      <th>link</th>\n",
       "      <th>society</th>\n",
       "      <th>price</th>\n",
       "      <th>rate</th>\n",
       "      <th>area</th>\n",
       "      <th>areaWithType</th>\n",
       "      <th>bedRoom</th>\n",
       "      <th>bathroom</th>\n",
       "      <th>balcony</th>\n",
       "      <th>...</th>\n",
       "      <th>address</th>\n",
       "      <th>noOfFloor</th>\n",
       "      <th>facing</th>\n",
       "      <th>agePossession</th>\n",
       "      <th>nearbyLocations</th>\n",
       "      <th>description</th>\n",
       "      <th>furnishDetails</th>\n",
       "      <th>features</th>\n",
       "      <th>rating</th>\n",
       "      <th>property_id</th>\n",
       "    </tr>\n",
       "  </thead>\n",
       "  <tbody>\n",
       "    <tr>\n",
       "      <th>0</th>\n",
       "      <td>5 Bedroom House for sale in Sector 70A Gurgaon</td>\n",
       "      <td>https://www.99acres.com/5-bhk-bedroom-independ...</td>\n",
       "      <td>Bptp Visionnaire</td>\n",
       "      <td>5.25 Crore</td>\n",
       "      <td>₹ 20,115/sq.ft.</td>\n",
       "      <td>(242 sq.m.) Plot Area</td>\n",
       "      <td>Plot area 290(242.48 sq.m.)</td>\n",
       "      <td>5 Bedrooms</td>\n",
       "      <td>4 Bathrooms</td>\n",
       "      <td>3+ Balconies</td>\n",
       "      <td>...</td>\n",
       "      <td>29b, Sector 70A Gurgaon, Gurgaon, Haryana</td>\n",
       "      <td>3 Floors</td>\n",
       "      <td>North-East</td>\n",
       "      <td>0 to 1 Year Old</td>\n",
       "      <td>['Good Earth City Center 2', 'Kunskapsskolan I...</td>\n",
       "      <td>Do you wish to buy an independent house in sec...</td>\n",
       "      <td>['1 Wardrobe', '1 Fan', '1 Exhaust Fan', '1 Ge...</td>\n",
       "      <td>['Feng Shui / Vaastu Compliant', 'Private Gard...</td>\n",
       "      <td>['Environment5 out of 5', 'Lifestyle4 out of 5...</td>\n",
       "      <td>K70037724</td>\n",
       "    </tr>\n",
       "    <tr>\n",
       "      <th>1</th>\n",
       "      <td>5 Bedroom House for sale in Sector 21A Faridabad</td>\n",
       "      <td>https://www.99acres.com/5-bhk-bedroom-independ...</td>\n",
       "      <td>NaN</td>\n",
       "      <td>5.7 Crore</td>\n",
       "      <td>₹ 105,751/sq.ft.</td>\n",
       "      <td>(50 sq.m.) Plot Area</td>\n",
       "      <td>Plot area 539(50.07 sq.m.)</td>\n",
       "      <td>5 Bedrooms</td>\n",
       "      <td>4 Bathrooms</td>\n",
       "      <td>2 Balconies</td>\n",
       "      <td>...</td>\n",
       "      <td>Sector 21A Faridabad, Gurgaon, Haryana</td>\n",
       "      <td>2 Floors</td>\n",
       "      <td>NaN</td>\n",
       "      <td>5 to 10 Year Old</td>\n",
       "      <td>NaN</td>\n",
       "      <td>Hi, we have an independent house/villa availab...</td>\n",
       "      <td>['1 Water Purifier', '5 Fan', '1 Exhaust Fan',...</td>\n",
       "      <td>['Private Garden / Terrace', 'Park', 'Visitor ...</td>\n",
       "      <td>NaN</td>\n",
       "      <td>E69288322</td>\n",
       "    </tr>\n",
       "    <tr>\n",
       "      <th>2</th>\n",
       "      <td>10 Bedroom House for sale in Sushant Lok Phase 1</td>\n",
       "      <td>https://www.99acres.com/10-bhk-bedroom-indepen...</td>\n",
       "      <td>NaN</td>\n",
       "      <td>2.1 Crore</td>\n",
       "      <td>₹ 38,251/sq.ft.</td>\n",
       "      <td>(51 sq.m.) Plot Area</td>\n",
       "      <td>Plot area 61(51 sq.m.)</td>\n",
       "      <td>10 Bedrooms</td>\n",
       "      <td>10 Bathrooms</td>\n",
       "      <td>3+ Balconies</td>\n",
       "      <td>...</td>\n",
       "      <td>Sushant Lok Phase 1, Gurgaon, Haryana</td>\n",
       "      <td>5 Floors</td>\n",
       "      <td>West</td>\n",
       "      <td>0 to 1 Year Old</td>\n",
       "      <td>['Sector 42-43 metro station', 'Huda city cent...</td>\n",
       "      <td>Monthly rental income is rs1,40,000/- Best opt...</td>\n",
       "      <td>['10 Bed', '3 Fan', '10 Geyser', '2 Light', 'N...</td>\n",
       "      <td>['Maintenance Staff', 'Water Storage', 'Visito...</td>\n",
       "      <td>['Environment5 out of 5', 'Lifestyle5 out of 5...</td>\n",
       "      <td>F69536898</td>\n",
       "    </tr>\n",
       "    <tr>\n",
       "      <th>3</th>\n",
       "      <td>21 Bedroom House for sale in Sector 54 Gurgaon</td>\n",
       "      <td>https://www.99acres.com/21-bhk-bedroom-indepen...</td>\n",
       "      <td>NaN</td>\n",
       "      <td>5 Crore</td>\n",
       "      <td>₹ 43,066/sq.ft.</td>\n",
       "      <td>(108 sq.m.) Plot Area</td>\n",
       "      <td>Plot area 129(107.86 sq.m.)</td>\n",
       "      <td>21 Bedrooms</td>\n",
       "      <td>21 Bathrooms</td>\n",
       "      <td>3+ Balconies</td>\n",
       "      <td>...</td>\n",
       "      <td>Sector 54 Gurgaon, Gurgaon, Haryana</td>\n",
       "      <td>5 Floors</td>\n",
       "      <td>North</td>\n",
       "      <td>1 to 5 Year Old</td>\n",
       "      <td>['Sector 53-54 metro station', 'Sector 54 chow...</td>\n",
       "      <td>129 sq yd plot size. 5 floors built up , fully...</td>\n",
       "      <td>['1 Water Purifier', '21 Fan', '1 Fridge', '1 ...</td>\n",
       "      <td>['Feng Shui / Vaastu Compliant', 'Private Gard...</td>\n",
       "      <td>['Environment4 out of 5', 'Lifestyle5 out of 5...</td>\n",
       "      <td>R69483164</td>\n",
       "    </tr>\n",
       "    <tr>\n",
       "      <th>4</th>\n",
       "      <td>12 Bedroom House for sale in Sushant Lok Phase 1</td>\n",
       "      <td>https://www.99acres.com/12-bhk-bedroom-indepen...</td>\n",
       "      <td>NaN</td>\n",
       "      <td>3 Crore</td>\n",
       "      <td>₹ 53,763/sq.ft.</td>\n",
       "      <td>(52 sq.m.) Plot Area</td>\n",
       "      <td>Plot area 62(51.84 sq.m.)</td>\n",
       "      <td>12 Bedrooms</td>\n",
       "      <td>12 Bathrooms</td>\n",
       "      <td>3+ Balconies</td>\n",
       "      <td>...</td>\n",
       "      <td>1228, Sushant Lok Phase 1, Gurgaon, Haryana</td>\n",
       "      <td>5 Floors</td>\n",
       "      <td>West</td>\n",
       "      <td>Within 6 months</td>\n",
       "      <td>['Sector 42-43 metro station', 'Huda city cent...</td>\n",
       "      <td>Best for investment purpose. Fully furnished b...</td>\n",
       "      <td>['1 Water Purifier', '1 Fridge', '12 Fan', '1 ...</td>\n",
       "      <td>['Maintenance Staff', 'Water Storage', 'Visito...</td>\n",
       "      <td>['Environment5 out of 5', 'Lifestyle5 out of 5...</td>\n",
       "      <td>M69381272</td>\n",
       "    </tr>\n",
       "  </tbody>\n",
       "</table>\n",
       "<p>5 rows × 21 columns</p>\n",
       "</div>"
      ],
      "text/plain": [
       "                                      property_name  \\\n",
       "0    5 Bedroom House for sale in Sector 70A Gurgaon   \n",
       "1  5 Bedroom House for sale in Sector 21A Faridabad   \n",
       "2  10 Bedroom House for sale in Sushant Lok Phase 1   \n",
       "3    21 Bedroom House for sale in Sector 54 Gurgaon   \n",
       "4  12 Bedroom House for sale in Sushant Lok Phase 1   \n",
       "\n",
       "                                                link           society  \\\n",
       "0  https://www.99acres.com/5-bhk-bedroom-independ...  Bptp Visionnaire   \n",
       "1  https://www.99acres.com/5-bhk-bedroom-independ...               NaN   \n",
       "2  https://www.99acres.com/10-bhk-bedroom-indepen...               NaN   \n",
       "3  https://www.99acres.com/21-bhk-bedroom-indepen...               NaN   \n",
       "4  https://www.99acres.com/12-bhk-bedroom-indepen...               NaN   \n",
       "\n",
       "        price              rate                   area  \\\n",
       "0  5.25 Crore   ₹ 20,115/sq.ft.  (242 sq.m.) Plot Area   \n",
       "1   5.7 Crore  ₹ 105,751/sq.ft.   (50 sq.m.) Plot Area   \n",
       "2   2.1 Crore   ₹ 38,251/sq.ft.   (51 sq.m.) Plot Area   \n",
       "3     5 Crore   ₹ 43,066/sq.ft.  (108 sq.m.) Plot Area   \n",
       "4     3 Crore   ₹ 53,763/sq.ft.   (52 sq.m.) Plot Area   \n",
       "\n",
       "                  areaWithType      bedRoom      bathroom       balcony  ...  \\\n",
       "0  Plot area 290(242.48 sq.m.)   5 Bedrooms   4 Bathrooms  3+ Balconies  ...   \n",
       "1   Plot area 539(50.07 sq.m.)   5 Bedrooms   4 Bathrooms   2 Balconies  ...   \n",
       "2       Plot area 61(51 sq.m.)  10 Bedrooms  10 Bathrooms  3+ Balconies  ...   \n",
       "3  Plot area 129(107.86 sq.m.)  21 Bedrooms  21 Bathrooms  3+ Balconies  ...   \n",
       "4    Plot area 62(51.84 sq.m.)  12 Bedrooms  12 Bathrooms  3+ Balconies  ...   \n",
       "\n",
       "                                       address noOfFloor      facing  \\\n",
       "0    29b, Sector 70A Gurgaon, Gurgaon, Haryana  3 Floors  North-East   \n",
       "1       Sector 21A Faridabad, Gurgaon, Haryana  2 Floors         NaN   \n",
       "2        Sushant Lok Phase 1, Gurgaon, Haryana  5 Floors        West   \n",
       "3          Sector 54 Gurgaon, Gurgaon, Haryana  5 Floors       North   \n",
       "4  1228, Sushant Lok Phase 1, Gurgaon, Haryana  5 Floors        West   \n",
       "\n",
       "      agePossession                                    nearbyLocations  \\\n",
       "0   0 to 1 Year Old  ['Good Earth City Center 2', 'Kunskapsskolan I...   \n",
       "1  5 to 10 Year Old                                                NaN   \n",
       "2   0 to 1 Year Old  ['Sector 42-43 metro station', 'Huda city cent...   \n",
       "3   1 to 5 Year Old  ['Sector 53-54 metro station', 'Sector 54 chow...   \n",
       "4   Within 6 months  ['Sector 42-43 metro station', 'Huda city cent...   \n",
       "\n",
       "                                         description  \\\n",
       "0  Do you wish to buy an independent house in sec...   \n",
       "1  Hi, we have an independent house/villa availab...   \n",
       "2  Monthly rental income is rs1,40,000/- Best opt...   \n",
       "3  129 sq yd plot size. 5 floors built up , fully...   \n",
       "4  Best for investment purpose. Fully furnished b...   \n",
       "\n",
       "                                      furnishDetails  \\\n",
       "0  ['1 Wardrobe', '1 Fan', '1 Exhaust Fan', '1 Ge...   \n",
       "1  ['1 Water Purifier', '5 Fan', '1 Exhaust Fan',...   \n",
       "2  ['10 Bed', '3 Fan', '10 Geyser', '2 Light', 'N...   \n",
       "3  ['1 Water Purifier', '21 Fan', '1 Fridge', '1 ...   \n",
       "4  ['1 Water Purifier', '1 Fridge', '12 Fan', '1 ...   \n",
       "\n",
       "                                            features  \\\n",
       "0  ['Feng Shui / Vaastu Compliant', 'Private Gard...   \n",
       "1  ['Private Garden / Terrace', 'Park', 'Visitor ...   \n",
       "2  ['Maintenance Staff', 'Water Storage', 'Visito...   \n",
       "3  ['Feng Shui / Vaastu Compliant', 'Private Gard...   \n",
       "4  ['Maintenance Staff', 'Water Storage', 'Visito...   \n",
       "\n",
       "                                              rating property_id  \n",
       "0  ['Environment5 out of 5', 'Lifestyle4 out of 5...   K70037724  \n",
       "1                                                NaN   E69288322  \n",
       "2  ['Environment5 out of 5', 'Lifestyle5 out of 5...   F69536898  \n",
       "3  ['Environment4 out of 5', 'Lifestyle5 out of 5...   R69483164  \n",
       "4  ['Environment5 out of 5', 'Lifestyle5 out of 5...   M69381272  \n",
       "\n",
       "[5 rows x 21 columns]"
      ]
     },
     "execution_count": 13,
     "metadata": {},
     "output_type": "execute_result"
    }
   ],
   "source": [
    "df1 = pd.read_csv('/kaggle/input/real-estate-data-sourced-from-99acres-com/houses.csv')\n",
    "df1.head(5)"
   ]
  },
  {
   "cell_type": "code",
   "execution_count": 14,
   "id": "15e64d9e",
   "metadata": {
    "execution": {
     "iopub.execute_input": "2024-06-12T14:42:52.811161Z",
     "iopub.status.busy": "2024-06-12T14:42:52.810748Z",
     "iopub.status.idle": "2024-06-12T14:42:52.826597Z",
     "shell.execute_reply": "2024-06-12T14:42:52.825355Z"
    },
    "papermill": {
     "duration": 0.038466,
     "end_time": "2024-06-12T14:42:52.830456",
     "exception": false,
     "start_time": "2024-06-12T14:42:52.791990",
     "status": "completed"
    },
    "tags": []
   },
   "outputs": [
    {
     "name": "stdout",
     "output_type": "stream",
     "text": [
      "<class 'pandas.core.frame.DataFrame'>\n",
      "RangeIndex: 1044 entries, 0 to 1043\n",
      "Data columns (total 21 columns):\n",
      " #   Column           Non-Null Count  Dtype \n",
      "---  ------           --------------  ----- \n",
      " 0   property_name    1044 non-null   object\n",
      " 1   link             1044 non-null   object\n",
      " 2   society          453 non-null    object\n",
      " 3   price            968 non-null    object\n",
      " 4   rate             1005 non-null   object\n",
      " 5   area             1044 non-null   object\n",
      " 6   areaWithType     987 non-null    object\n",
      " 7   bedRoom          987 non-null    object\n",
      " 8   bathroom         987 non-null    object\n",
      " 9   balcony          987 non-null    object\n",
      " 10  additionalRoom   589 non-null    object\n",
      " 11  address          1031 non-null   object\n",
      " 12  noOfFloor        967 non-null    object\n",
      " 13  facing           674 non-null    object\n",
      " 14  agePossession    987 non-null    object\n",
      " 15  nearbyLocations  913 non-null    object\n",
      " 16  description      1036 non-null   object\n",
      " 17  furnishDetails   743 non-null    object\n",
      " 18  features         674 non-null    object\n",
      " 19  rating           907 non-null    object\n",
      " 20  property_id      1036 non-null   object\n",
      "dtypes: object(21)\n",
      "memory usage: 171.4+ KB\n"
     ]
    }
   ],
   "source": [
    "df1.info()"
   ]
  },
  {
   "cell_type": "markdown",
   "id": "dff2163c",
   "metadata": {
    "papermill": {
     "duration": 0.016971,
     "end_time": "2024-06-12T14:42:52.864721",
     "exception": false,
     "start_time": "2024-06-12T14:42:52.847750",
     "status": "completed"
    },
    "tags": []
   },
   "source": [
    "**Converting all required data type of price, no of floor, bedroom and area column to numeric.**"
   ]
  },
  {
   "cell_type": "code",
   "execution_count": 15,
   "id": "31d056dc",
   "metadata": {
    "execution": {
     "iopub.execute_input": "2024-06-12T14:42:52.901590Z",
     "iopub.status.busy": "2024-06-12T14:42:52.901180Z",
     "iopub.status.idle": "2024-06-12T14:42:52.936746Z",
     "shell.execute_reply": "2024-06-12T14:42:52.935399Z"
    },
    "papermill": {
     "duration": 0.057004,
     "end_time": "2024-06-12T14:42:52.939492",
     "exception": false,
     "start_time": "2024-06-12T14:42:52.882488",
     "status": "completed"
    },
    "tags": []
   },
   "outputs": [],
   "source": [
    "# Convert all values in the 'price' column to strings\n",
    "df1['price'] = df1['price'].astype(str)\n",
    "\n",
    "# Replace \"Price on Request\" with 0\n",
    "df1.loc[df1['price'] == 'Price on Request', 'price'] = '0'\n",
    "\n",
    "# Remove non-numeric characters and convert prices to numeric\n",
    "df1['price'] = df1['price'].replace({' Lac': '00000', ' Crore': '0000000', 'â‚¹ ': '', ',': ''}, regex=True).astype(float)\n",
    "\n",
    "# Convert the 'area' column to numeric values\n",
    "df1['area'] = df1['area'].str.extract('(\\d+\\.?\\d*)').astype(float)\n",
    "\n",
    "# Extract the numeric part of the floors\n",
    "df1['noOfFloor'] = df1['noOfFloor'].str.extract(r'(\\d+)').astype(float)\n",
    "\n",
    "# Convert all values in the 'bedRoom' column to strings and handle NaN values\n",
    "df1['bedRoom'] = df1['bedRoom'].astype(str).str.extract('(\\d+)').fillna(0).astype(int)"
   ]
  },
  {
   "cell_type": "code",
   "execution_count": 16,
   "id": "167794d1",
   "metadata": {
    "execution": {
     "iopub.execute_input": "2024-06-12T14:42:52.976582Z",
     "iopub.status.busy": "2024-06-12T14:42:52.976159Z",
     "iopub.status.idle": "2024-06-12T14:42:52.992200Z",
     "shell.execute_reply": "2024-06-12T14:42:52.990875Z"
    },
    "papermill": {
     "duration": 0.038186,
     "end_time": "2024-06-12T14:42:52.995019",
     "exception": false,
     "start_time": "2024-06-12T14:42:52.956833",
     "status": "completed"
    },
    "tags": []
   },
   "outputs": [
    {
     "name": "stdout",
     "output_type": "stream",
     "text": [
      "<class 'pandas.core.frame.DataFrame'>\n",
      "RangeIndex: 1044 entries, 0 to 1043\n",
      "Data columns (total 21 columns):\n",
      " #   Column           Non-Null Count  Dtype  \n",
      "---  ------           --------------  -----  \n",
      " 0   property_name    1044 non-null   object \n",
      " 1   link             1044 non-null   object \n",
      " 2   society          453 non-null    object \n",
      " 3   price            968 non-null    float64\n",
      " 4   rate             1005 non-null   object \n",
      " 5   area             1044 non-null   float64\n",
      " 6   areaWithType     987 non-null    object \n",
      " 7   bedRoom          1044 non-null   int64  \n",
      " 8   bathroom         987 non-null    object \n",
      " 9   balcony          987 non-null    object \n",
      " 10  additionalRoom   589 non-null    object \n",
      " 11  address          1031 non-null   object \n",
      " 12  noOfFloor        967 non-null    float64\n",
      " 13  facing           674 non-null    object \n",
      " 14  agePossession    987 non-null    object \n",
      " 15  nearbyLocations  913 non-null    object \n",
      " 16  description      1036 non-null   object \n",
      " 17  furnishDetails   743 non-null    object \n",
      " 18  features         674 non-null    object \n",
      " 19  rating           907 non-null    object \n",
      " 20  property_id      1036 non-null   object \n",
      "dtypes: float64(3), int64(1), object(17)\n",
      "memory usage: 171.4+ KB\n"
     ]
    }
   ],
   "source": [
    "df1.info()"
   ]
  },
  {
   "cell_type": "code",
   "execution_count": 17,
   "id": "80bffb1b",
   "metadata": {
    "execution": {
     "iopub.execute_input": "2024-06-12T14:42:53.032315Z",
     "iopub.status.busy": "2024-06-12T14:42:53.031300Z",
     "iopub.status.idle": "2024-06-12T14:42:53.044808Z",
     "shell.execute_reply": "2024-06-12T14:42:53.043329Z"
    },
    "papermill": {
     "duration": 0.035057,
     "end_time": "2024-06-12T14:42:53.047352",
     "exception": false,
     "start_time": "2024-06-12T14:42:53.012295",
     "status": "completed"
    },
    "tags": []
   },
   "outputs": [
    {
     "data": {
      "text/plain": [
       "property_name        0\n",
       "link                 0\n",
       "society            591\n",
       "price               76\n",
       "rate                39\n",
       "area                 0\n",
       "areaWithType        57\n",
       "bedRoom              0\n",
       "bathroom            57\n",
       "balcony             57\n",
       "additionalRoom     455\n",
       "address             13\n",
       "noOfFloor           77\n",
       "facing             370\n",
       "agePossession       57\n",
       "nearbyLocations    131\n",
       "description          8\n",
       "furnishDetails     301\n",
       "features           370\n",
       "rating             137\n",
       "property_id          8\n",
       "dtype: int64"
      ]
     },
     "execution_count": 17,
     "metadata": {},
     "output_type": "execute_result"
    }
   ],
   "source": [
    "df1.isnull().sum()"
   ]
  },
  {
   "cell_type": "code",
   "execution_count": 18,
   "id": "63bec88d",
   "metadata": {
    "execution": {
     "iopub.execute_input": "2024-06-12T14:42:53.085292Z",
     "iopub.status.busy": "2024-06-12T14:42:53.084901Z",
     "iopub.status.idle": "2024-06-12T14:42:53.093737Z",
     "shell.execute_reply": "2024-06-12T14:42:53.092546Z"
    },
    "papermill": {
     "duration": 0.031181,
     "end_time": "2024-06-12T14:42:53.096267",
     "exception": false,
     "start_time": "2024-06-12T14:42:53.065086",
     "status": "completed"
    },
    "tags": []
   },
   "outputs": [],
   "source": [
    "# Drop rows from furnish Details.\n",
    "\n",
    "df1 = df1.dropna(subset=['furnishDetails'])"
   ]
  },
  {
   "cell_type": "markdown",
   "id": "1f243cc4",
   "metadata": {
    "papermill": {
     "duration": 0.017837,
     "end_time": "2024-06-12T14:42:53.131763",
     "exception": false,
     "start_time": "2024-06-12T14:42:53.113926",
     "status": "completed"
    },
    "tags": []
   },
   "source": [
    "**Question 8: What is the most common number of floors in the listed houses?**"
   ]
  },
  {
   "cell_type": "code",
   "execution_count": 19,
   "id": "072e8f9e",
   "metadata": {
    "execution": {
     "iopub.execute_input": "2024-06-12T14:42:53.169764Z",
     "iopub.status.busy": "2024-06-12T14:42:53.169266Z",
     "iopub.status.idle": "2024-06-12T14:42:53.178927Z",
     "shell.execute_reply": "2024-06-12T14:42:53.177753Z"
    },
    "papermill": {
     "duration": 0.03145,
     "end_time": "2024-06-12T14:42:53.181419",
     "exception": false,
     "start_time": "2024-06-12T14:42:53.149969",
     "status": "completed"
    },
    "tags": []
   },
   "outputs": [
    {
     "name": "stdout",
     "output_type": "stream",
     "text": [
      "The most common number of floors is: 3.0\n"
     ]
    }
   ],
   "source": [
    "# 1. Most common number of floors\n",
    "most_common_floors = df1['noOfFloor'].mode().iloc[0]\n",
    "print(f\"The most common number of floors is: {most_common_floors}\")"
   ]
  },
  {
   "cell_type": "markdown",
   "id": "5b188ac3",
   "metadata": {
    "papermill": {
     "duration": 0.018584,
     "end_time": "2024-06-12T14:42:53.217908",
     "exception": false,
     "start_time": "2024-06-12T14:42:53.199324",
     "status": "completed"
    },
    "tags": []
   },
   "source": [
    "**Question 9: Calculate the average price of houses with more than 3 bedrooms.**"
   ]
  },
  {
   "cell_type": "code",
   "execution_count": 20,
   "id": "52ebed15",
   "metadata": {
    "execution": {
     "iopub.execute_input": "2024-06-12T14:42:53.256573Z",
     "iopub.status.busy": "2024-06-12T14:42:53.256136Z",
     "iopub.status.idle": "2024-06-12T14:42:53.265156Z",
     "shell.execute_reply": "2024-06-12T14:42:53.263717Z"
    },
    "papermill": {
     "duration": 0.032114,
     "end_time": "2024-06-12T14:42:53.268281",
     "exception": false,
     "start_time": "2024-06-12T14:42:53.236167",
     "status": "completed"
    },
    "tags": []
   },
   "outputs": [
    {
     "name": "stdout",
     "output_type": "stream",
     "text": [
      "The average price of houses with more than 3 bedrooms is: ₹ 23760447.77\n"
     ]
    }
   ],
   "source": [
    "# Filter houses with more than 3 bedrooms\n",
    "filtered_bd = df1[df1['bedRoom'] > 3]\n",
    "\n",
    "# Calculate the average price\n",
    "average_price = filtered_bd['price'].mean()\n",
    "\n",
    "print(f\"The average price of houses with more than 3 bedrooms is: ₹ {average_price:.2f}\")"
   ]
  },
  {
   "cell_type": "markdown",
   "id": "5bbd01d9",
   "metadata": {
    "papermill": {
     "duration": 0.018411,
     "end_time": "2024-06-12T14:42:53.305436",
     "exception": false,
     "start_time": "2024-06-12T14:42:53.287025",
     "status": "completed"
    },
    "tags": []
   },
   "source": [
    "**Question 10: Compare the average areas of furnished vs. unfurnished houses.**"
   ]
  },
  {
   "cell_type": "code",
   "execution_count": 21,
   "id": "acdacf8c",
   "metadata": {
    "execution": {
     "iopub.execute_input": "2024-06-12T14:42:53.344648Z",
     "iopub.status.busy": "2024-06-12T14:42:53.344185Z",
     "iopub.status.idle": "2024-06-12T14:42:53.594781Z",
     "shell.execute_reply": "2024-06-12T14:42:53.593383Z"
    },
    "papermill": {
     "duration": 0.273349,
     "end_time": "2024-06-12T14:42:53.597444",
     "exception": false,
     "start_time": "2024-06-12T14:42:53.324095",
     "status": "completed"
    },
    "tags": []
   },
   "outputs": [
    {
     "name": "stdout",
     "output_type": "stream",
     "text": [
      "Average area of furnished houses: 281.0746951219512\n",
      "Average area of unfurnished houses: 183.98850574712642\n"
     ]
    },
    {
     "data": {
      "image/png": "[encoded data removed]",
      "text/plain": [
       "<Figure size 640x480 with 1 Axes>"
      ]
     },
     "metadata": {},
     "output_type": "display_data"
    }
   ],
   "source": [
    "# Filter furnished and unfurnished houses\n",
    "furnished_avg_area = df1[df1['furnishDetails'].str.contains('No', case=False)]['area'].mean()\n",
    "unfurnished_avg_area = df1[~df1['furnishDetails'].str.contains('No', case=False)]['area'].mean()\n",
    "\n",
    "print(\"Average area of furnished houses:\", furnished_avg_area)\n",
    "print(\"Average area of unfurnished houses:\", unfurnished_avg_area)\n",
    "\n",
    "# Visualization\n",
    "labels = ['Furnished', 'Unfurnished']\n",
    "avg_areas = [unfurnished_avg_area, furnished_avg_area]\n",
    "\n",
    "fig, ax = plt.subplots()\n",
    "ax.bar(labels, avg_areas, color=['blue', 'orange'])\n",
    "\n",
    "ax.set_ylabel('Average Area (sqft)')\n",
    "ax.set_title('Average Area of Furnished and Unfurnished Houses')\n",
    "plt.show()"
   ]
  },
  {
   "cell_type": "code",
   "execution_count": null,
   "id": "e403dfb1",
   "metadata": {
    "papermill": {
     "duration": 0.018288,
     "end_time": "2024-06-12T14:42:53.634351",
     "exception": false,
     "start_time": "2024-06-12T14:42:53.616063",
     "status": "completed"
    },
    "tags": []
   },
   "outputs": [],
   "source": []
  }
 ],
 "metadata": {
  "kaggle": {
   "accelerator": "none",
   "dataSources": [
    {
     "datasetId": 3942739,
     "sourceId": 6860294,
     "sourceType": "datasetVersion"
    }
   ],
   "dockerImageVersionId": 30732,
   "isGpuEnabled": false,
   "isInternetEnabled": true,
   "language": "python",
   "sourceType": "notebook"
  },
  "kernelspec": {
   "display_name": "Python 3",
   "language": "python",
   "name": "python3"
  },
  "language_info": {
   "codemirror_mode": {
    "name": "ipython",
    "version": 3
   },
   "file_extension": ".py",
   "mimetype": "text/x-python",
   "name": "python",
   "nbconvert_exporter": "python",
   "pygments_lexer": "ipython3",
   "version": "3.10.13"
  },
  "papermill": {
   "default_parameters": {},
   "duration": 11.129268,
   "end_time": "2024-06-12T14:42:54.276890",
   "environment_variables": {},
   "exception": null,
   "input_path": "__notebook__.ipynb",
   "output_path": "__notebook__.ipynb",
   "parameters": {},
   "start_time": "2024-06-12T14:42:43.147622",
   "version": "2.5.0"
  }
 },
 "nbformat": 4,
 "nbformat_minor": 5
}
